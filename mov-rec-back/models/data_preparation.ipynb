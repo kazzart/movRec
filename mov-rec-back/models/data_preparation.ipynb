{
 "cells": [
  {
   "cell_type": "code",
   "execution_count": 1,
   "metadata": {},
   "outputs": [],
   "source": [
    "import numpy as np\n",
    "import pandas as pd\n",
    "import matplotlib\n",
    "import matplotlib.pyplot as plt\n",
    "import seaborn as sns\n",
    "sns.set_style('dark')\n",
    "%matplotlib inline"
   ]
  },
  {
   "cell_type": "code",
   "execution_count": 2,
   "metadata": {},
   "outputs": [],
   "source": [
    "from scipy.sparse import csr_matrix\n",
    "from pandas.api.types import CategoricalDtype\n",
    "from sklearn.metrics import mean_squared_error\n",
    "from math import sqrt\n",
    "from sklearn.model_selection import train_test_split"
   ]
  },
  {
   "cell_type": "code",
   "execution_count": 3,
   "metadata": {},
   "outputs": [],
   "source": [
    "data = pd.read_csv('../Data/movie_data.csv')\n",
    "data.drop(columns=['title', 'timestamp', 'genres'], inplace=True)\n",
    "data.to_csv('../Data/shortened_movie_data.csv')"
   ]
  },
  {
   "cell_type": "code",
   "execution_count": 28,
   "metadata": {},
   "outputs": [],
   "source": [
    "def get_movie_data_from_csv(movie_data_path=\"../Data/movie_data.csv\", movie_ids_path=\"../Data/movie_ids.csv\", n_ratings=None, min_movie_ratings=50, min_user_ratings=50):\n",
    "    movie_data = pd.read_csv(movie_data_path)\n",
    "    movie_ids = pd.read_csv(movie_ids_path)\n",
    "    movie_data = movie_data.groupby(\"userId\").filter(lambda x: len(x) > min_movie_ratings)\n",
    "    movie_data = movie_data.groupby(\"movieId\").filter(lambda x: len(x) > min_user_ratings)\n",
    "    if n_ratings is None:\n",
    "        return movie_data, movie_ids\n",
    "    return movie_data[:n_ratings], movie_ids\n",
    "    "
   ]
  },
  {
   "cell_type": "code",
   "execution_count": 29,
   "metadata": {},
   "outputs": [],
   "source": [
    "def get_sparse_pivot(movie_data):\n",
    "    person_c = CategoricalDtype(sorted(movie_data['userId'].unique()), ordered=True)\n",
    "    movie_c = CategoricalDtype(sorted(movie_data['movieId'].unique()), ordered=True)\n",
    "\n",
    "    row = movie_data['userId'].astype(person_c).cat.codes\n",
    "    col = movie_data['movieId'].astype(movie_c).cat.codes\n",
    "    user_item_sparse_matrix = csr_matrix((movie_data[\"rating\"], (row, col)), \\\n",
    "                            shape=(person_c.categories.size, movie_c.categories.size))\n",
    "    n_users, n_items = user_item_sparse_matrix.shape\n",
    "    return user_item_sparse_matrix, n_users, n_items"
   ]
  },
  {
   "cell_type": "code",
   "execution_count": 33,
   "metadata": {},
   "outputs": [],
   "source": [
    "def get_pivot(movie_data):\n",
    "    user_item = movie_data.pivot_table(index='userId', columns='title', values='rating')\n",
    "    n_users, n_items = user_item.shape\n",
    "    return user_item, n_users, n_items"
   ]
  },
  {
   "cell_type": "code",
   "execution_count": 30,
   "metadata": {},
   "outputs": [],
   "source": [
    "def rescale_movie_id(movie_data):\n",
    "    movie_ids = movie_data['movieId'].unique()\n",
    "\n",
    "    def scale_movie_id(movie_id):\n",
    "        scaled = np.where(movie_ids == movie_id)[0][0] + 1\n",
    "        return scaled\n",
    "    \n",
    "    movie_data['movieId'] = movie_data['movieId'].apply(scale_movie_id)\n",
    "    return movie_data"
   ]
  },
  {
   "cell_type": "code",
   "execution_count": 36,
   "metadata": {},
   "outputs": [],
   "source": [
    "def rmse(prediction, ground_truth):\n",
    "    prediction = np.nan_to_num(prediction)\n",
    "    ground_truth = np.nan_to_num(ground_truth)\n",
    "    prediction = prediction[ground_truth.nonzero()]\n",
    "    ground_truth = ground_truth[ground_truth.nonzero()]\n",
    "    ground_truth = ground_truth[prediction.nonzero()].flatten()\n",
    "    prediction = prediction[prediction.nonzero()].flatten()\n",
    "    print(len(prediction), len(ground_truth))\n",
    "    mse = mean_squared_error(prediction, ground_truth)\n",
    "    print(mse)\n",
    "    return sqrt(mse)"
   ]
  },
  {
   "cell_type": "code",
   "execution_count": 34,
   "metadata": {},
   "outputs": [],
   "source": [
    "def data_preparation_pipeline(movie_data_path=\"../Data/movie_data.csv\", movie_ids_path=\"../Data/movie_ids.csv\", n_ratings=100000, test_size=0.2, csr=False):\n",
    "    movie_data, movie_ids = get_movie_data_from_csv(movie_data_path=movie_data_path, movie_ids_path=movie_ids_path, n_ratings=n_ratings)\n",
    "    train_data, test_data = train_test_split(movie_data, test_size=test_size)\n",
    "    if csr:\n",
    "        user_item_train, n_users_train, n_items_train = get_sparse_pivot(train_data)\n",
    "        user_item_test, n_users_test, n_items_test = get_sparse_pivot(test_data)\n",
    "    else:\n",
    "        user_item_train, n_users_train, n_items_train = get_pivot(train_data)\n",
    "        user_item_test, n_users_test, n_items_test = get_pivot(test_data)\n",
    "    return ((user_item_train, n_users_train, n_items_train), (user_item_test, n_users_test, n_items_test), movie_data)"
   ]
  }
 ],
 "metadata": {
  "interpreter": {
   "hash": "a547e1d5712790b858268d83c79007516b967c0c3e8ce6e2b2cca3a00ef3f5bb"
  },
  "kernelspec": {
   "display_name": "Python 3.10.2 ('.venv': venv)",
   "language": "python",
   "name": "python3"
  },
  "language_info": {
   "codemirror_mode": {
    "name": "ipython",
    "version": 3
   },
   "file_extension": ".py",
   "mimetype": "text/x-python",
   "name": "python",
   "nbconvert_exporter": "python",
   "pygments_lexer": "ipython3",
   "version": "3.7.9"
  },
  "orig_nbformat": 4
 },
 "nbformat": 4,
 "nbformat_minor": 2
}
