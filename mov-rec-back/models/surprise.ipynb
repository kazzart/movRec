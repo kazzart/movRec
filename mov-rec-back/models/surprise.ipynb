{
 "cells": [
  {
   "cell_type": "code",
   "execution_count": 1,
   "metadata": {},
   "outputs": [],
   "source": [
    "import numpy as np\n",
    "import pandas as pd\n",
    "import matplotlib\n",
    "import matplotlib.pyplot as plt\n",
    "import seaborn as sns\n",
    "sns.set_style('dark')\n",
    "%matplotlib inline"
   ]
  },
  {
   "cell_type": "code",
   "execution_count": 2,
   "metadata": {},
   "outputs": [],
   "source": [
    "from data_preparation import *"
   ]
  },
  {
   "cell_type": "code",
   "execution_count": 19,
   "metadata": {},
   "outputs": [],
   "source": [
    "from surprise import SVD, SVDpp, NMF, SlopeOne, KNNBasic, KNNWithMeans, KNNBaseline, CoClustering, BaselineOnly, NormalPredictor\n",
    "from surprise import Dataset, Reader\n",
    "from surprise.model_selection import cross_validate\n",
    "from surprise.model_selection.search import GridSearchCV"
   ]
  },
  {
   "cell_type": "code",
   "execution_count": 4,
   "metadata": {},
   "outputs": [],
   "source": [
    "(user_item_train, n_users_train, n_items_train), (user_item_test, n_users_test, n_items_test), movie_data = data_preparation_pipeline()"
   ]
  },
  {
   "cell_type": "code",
   "execution_count": 5,
   "metadata": {},
   "outputs": [
    {
     "data": {
      "text/html": [
       "<div>\n",
       "<style scoped>\n",
       "    .dataframe tbody tr th:only-of-type {\n",
       "        vertical-align: middle;\n",
       "    }\n",
       "\n",
       "    .dataframe tbody tr th {\n",
       "        vertical-align: top;\n",
       "    }\n",
       "\n",
       "    .dataframe thead th {\n",
       "        text-align: right;\n",
       "    }\n",
       "</style>\n",
       "<table border=\"1\" class=\"dataframe\">\n",
       "  <thead>\n",
       "    <tr style=\"text-align: right;\">\n",
       "      <th></th>\n",
       "      <th>userId</th>\n",
       "      <th>movieId</th>\n",
       "      <th>rating</th>\n",
       "    </tr>\n",
       "  </thead>\n",
       "  <tbody>\n",
       "    <tr>\n",
       "      <th>0</th>\n",
       "      <td>1</td>\n",
       "      <td>1</td>\n",
       "      <td>5.0</td>\n",
       "    </tr>\n",
       "    <tr>\n",
       "      <th>1</th>\n",
       "      <td>1</td>\n",
       "      <td>2</td>\n",
       "      <td>4.5</td>\n",
       "    </tr>\n",
       "    <tr>\n",
       "      <th>2</th>\n",
       "      <td>1</td>\n",
       "      <td>3</td>\n",
       "      <td>4.0</td>\n",
       "    </tr>\n",
       "    <tr>\n",
       "      <th>3</th>\n",
       "      <td>1</td>\n",
       "      <td>4</td>\n",
       "      <td>3.5</td>\n",
       "    </tr>\n",
       "    <tr>\n",
       "      <th>4</th>\n",
       "      <td>1</td>\n",
       "      <td>5</td>\n",
       "      <td>5.0</td>\n",
       "    </tr>\n",
       "  </tbody>\n",
       "</table>\n",
       "</div>"
      ],
      "text/plain": [
       "   userId  movieId  rating\n",
       "0       1        1     5.0\n",
       "1       1        2     4.5\n",
       "2       1        3     4.0\n",
       "3       1        4     3.5\n",
       "4       1        5     5.0"
      ]
     },
     "execution_count": 5,
     "metadata": {},
     "output_type": "execute_result"
    }
   ],
   "source": [
    "movie_data_3_cols = movie_data[['userId', 'movieId', 'rating']]\n",
    "movie_data_3_cols.head()"
   ]
  },
  {
   "cell_type": "code",
   "execution_count": 6,
   "metadata": {},
   "outputs": [],
   "source": [
    "reader = Reader()\n",
    "movie_data_sur = Dataset.load_from_df(movie_data_3_cols, reader=reader)\n"
   ]
  },
  {
   "cell_type": "code",
   "execution_count": 23,
   "metadata": {},
   "outputs": [
    {
     "name": "stderr",
     "output_type": "stream",
     "text": [
      "[Parallel(n_jobs=-1)]: Using backend LokyBackend with 8 concurrent workers.\n",
      "[Parallel(n_jobs=-1)]: Done  34 tasks      | elapsed:   53.8s\n",
      "[Parallel(n_jobs=-1)]: Done 184 tasks      | elapsed:  5.3min\n",
      "[Parallel(n_jobs=-1)]: Done 434 tasks      | elapsed: 15.8min\n",
      "[Parallel(n_jobs=-1)]: Done 784 tasks      | elapsed: 30.7min\n",
      "[Parallel(n_jobs=-1)]: Done 1234 tasks      | elapsed: 53.9min\n",
      "[Parallel(n_jobs=-1)]: Done 1600 out of 1600 | elapsed: 108.7min finished\n"
     ]
    },
    {
     "data": {
      "text/plain": [
       "(0.8553407824966703,\n",
       " {'n_factors': 200, 'n_epochs': 30, 'lr_all': 0.01, 'reg_all': 0.1})"
      ]
     },
     "execution_count": 23,
     "metadata": {},
     "output_type": "execute_result"
    }
   ],
   "source": [
    "svd = SVD(n_factors=200, n_epochs=50, lr_all=1e-2, reg_all=1e-1)\n",
    "# perf_svd = cross_validate(svd, movie_data_sur, measures=['RMSE', 'MAE'], cv=3, verbose=True)\n",
    "parameters = {'n_factors':[50, 100, 200, 500], 'n_epochs':[5, 10, 20, 30], 'lr_all':[5e-4, 1e-3, 3e-3, 5e-3, 1e-2], 'reg_all':[5e-3, 2e-2, 5e-2, 1e-1]}\n",
    "svd = GridSearchCV(SVD, parameters, n_jobs=-1, joblib_verbose=1, measures=['rmse', 'mae'])\n",
    "svd.fit(movie_data_sur)\n",
    "(svd.best_score['rmse'], svd.best_params['rmse'])"
   ]
  },
  {
   "cell_type": "code",
   "execution_count": 32,
   "metadata": {},
   "outputs": [
    {
     "name": "stdout",
     "output_type": "stream",
     "text": [
      "Evaluating RMSE, MAE of algorithm SVD on 3 split(s).\n",
      "\n",
      "                  Fold 1  Fold 2  Fold 3  Mean    Std     \n",
      "RMSE (testset)    0.8675  0.8592  0.8627  0.8631  0.0034  \n",
      "MAE (testset)     0.6648  0.6595  0.6604  0.6616  0.0023  \n",
      "Fit time          16.61   17.69   17.60   17.30   0.49    \n",
      "Test time         0.22    0.41    0.22    0.28    0.09    \n"
     ]
    }
   ],
   "source": [
    "svd = SVD(n_factors=200, n_epochs=50, lr_all=1e-2, reg_all=1e-1)\n",
    "perf_svd = cross_validate(svd, movie_data_sur, measures=['RMSE', 'MAE'], cv=3, verbose=True)"
   ]
  },
  {
   "cell_type": "code",
   "execution_count": 9,
   "metadata": {},
   "outputs": [
    {
     "name": "stdout",
     "output_type": "stream",
     "text": [
      "Evaluating RMSE, MAE of algorithm SVDpp on 3 split(s).\n",
      "\n",
      "                  Fold 1  Fold 2  Fold 3  Mean    Std     \n",
      "RMSE (testset)    0.8713  0.8748  0.8734  0.8732  0.0014  \n",
      "MAE (testset)     0.6647  0.6718  0.6689  0.6685  0.0029  \n",
      "Fit time          296.26  317.16  317.12  310.18  9.84    \n",
      "Test time         8.73    9.79    9.99    9.50    0.55    \n"
     ]
    }
   ],
   "source": [
    "svdpp = SVDpp()\n",
    "perf_svdpp = cross_validate(svdpp, movie_data_sur, measures=['RMSE', 'MAE'], cv=3, verbose=True)"
   ]
  },
  {
   "cell_type": "code",
   "execution_count": 10,
   "metadata": {},
   "outputs": [
    {
     "name": "stdout",
     "output_type": "stream",
     "text": [
      "Evaluating RMSE, MAE of algorithm NMF on 3 split(s).\n",
      "\n",
      "                  Fold 1  Fold 2  Fold 3  Mean    Std     \n",
      "RMSE (testset)    0.9401  0.9386  0.9401  0.9396  0.0007  \n",
      "MAE (testset)     0.7228  0.7230  0.7200  0.7219  0.0014  \n",
      "Fit time          5.58    5.55    5.55    5.56    0.01    \n",
      "Test time         0.22    0.21    0.29    0.24    0.04    \n"
     ]
    }
   ],
   "source": [
    "nmf = NMF()\n",
    "perf_nmf = cross_validate(nmf, movie_data_sur, measures=['RMSE', 'MAE'], cv=3, verbose=True)"
   ]
  },
  {
   "cell_type": "code",
   "execution_count": 11,
   "metadata": {},
   "outputs": [
    {
     "name": "stdout",
     "output_type": "stream",
     "text": [
      "Evaluating RMSE, MAE of algorithm SlopeOne on 3 split(s).\n",
      "\n",
      "                  Fold 1  Fold 2  Fold 3  Mean    Std     \n",
      "RMSE (testset)    0.9093  0.9135  0.8961  0.9063  0.0074  \n",
      "MAE (testset)     0.6996  0.6989  0.6877  0.6954  0.0055  \n",
      "Fit time          3.27    3.31    3.20    3.26    0.04    \n",
      "Test time         6.67    6.35    6.45    6.49    0.14    \n"
     ]
    }
   ],
   "source": [
    "s_one = SlopeOne()\n",
    "perf_s_one = cross_validate(s_one, movie_data_sur, measures=['RMSE', 'MAE'], cv=3, verbose=True)"
   ]
  },
  {
   "cell_type": "code",
   "execution_count": 12,
   "metadata": {},
   "outputs": [
    {
     "name": "stdout",
     "output_type": "stream",
     "text": [
      "Computing the msd similarity matrix...\n",
      "Done computing similarity matrix.\n",
      "Computing the msd similarity matrix...\n",
      "Done computing similarity matrix.\n",
      "Computing the msd similarity matrix...\n",
      "Done computing similarity matrix.\n",
      "Evaluating RMSE, MAE of algorithm KNNBasic on 3 split(s).\n",
      "\n",
      "                  Fold 1  Fold 2  Fold 3  Mean    Std     \n",
      "RMSE (testset)    0.9743  0.9730  0.9631  0.9701  0.0050  \n",
      "MAE (testset)     0.7496  0.7474  0.7426  0.7465  0.0029  \n",
      "Fit time          0.17    0.26    0.19    0.21    0.04    \n",
      "Test time         2.31    2.49    2.25    2.35    0.10    \n"
     ]
    }
   ],
   "source": [
    "knn_basic = KNNBasic()\n",
    "perf_knn_basic = cross_validate(knn_basic, movie_data_sur, measures=['RMSE', 'MAE'], cv=3, verbose=True)"
   ]
  },
  {
   "cell_type": "code",
   "execution_count": 13,
   "metadata": {},
   "outputs": [
    {
     "name": "stdout",
     "output_type": "stream",
     "text": [
      "Computing the msd similarity matrix...\n",
      "Done computing similarity matrix.\n",
      "Computing the msd similarity matrix...\n",
      "Done computing similarity matrix.\n",
      "Computing the msd similarity matrix...\n",
      "Done computing similarity matrix.\n",
      "Evaluating RMSE, MAE of algorithm KNNWithMeans on 3 split(s).\n",
      "\n",
      "                  Fold 1  Fold 2  Fold 3  Mean    Std     \n",
      "RMSE (testset)    0.9090  0.8967  0.8970  0.9009  0.0057  \n",
      "MAE (testset)     0.6972  0.6886  0.6885  0.6914  0.0041  \n",
      "Fit time          0.19    0.21    0.22    0.21    0.01    \n",
      "Test time         2.50    2.57    2.72    2.60    0.09    \n"
     ]
    }
   ],
   "source": [
    "knnm = KNNWithMeans()\n",
    "perf_knnm = cross_validate(knnm, movie_data_sur, measures=['RMSE', 'MAE'], cv=3, verbose=True)"
   ]
  },
  {
   "cell_type": "code",
   "execution_count": 14,
   "metadata": {},
   "outputs": [
    {
     "name": "stdout",
     "output_type": "stream",
     "text": [
      "Estimating biases using als...\n",
      "Computing the msd similarity matrix...\n",
      "Done computing similarity matrix.\n",
      "Estimating biases using als...\n",
      "Computing the msd similarity matrix...\n",
      "Done computing similarity matrix.\n",
      "Estimating biases using als...\n",
      "Computing the msd similarity matrix...\n",
      "Done computing similarity matrix.\n",
      "Evaluating RMSE, MAE of algorithm KNNBaseline on 3 split(s).\n",
      "\n",
      "                  Fold 1  Fold 2  Fold 3  Mean    Std     \n",
      "RMSE (testset)    0.8850  0.8800  0.8905  0.8852  0.0043  \n",
      "MAE (testset)     0.6775  0.6747  0.6823  0.6782  0.0031  \n",
      "Fit time          0.40    0.42    0.40    0.41    0.01    \n",
      "Test time         2.98    3.14    3.09    3.07    0.07    \n"
     ]
    }
   ],
   "source": [
    "knn_base = KNNBaseline()\n",
    "perf_knn_base = cross_validate(knn_base, movie_data_sur, measures=['RMSE', 'MAE'], cv=3, verbose=True)"
   ]
  },
  {
   "cell_type": "code",
   "execution_count": 15,
   "metadata": {},
   "outputs": [
    {
     "name": "stdout",
     "output_type": "stream",
     "text": [
      "Evaluating RMSE, MAE of algorithm CoClustering on 3 split(s).\n",
      "\n",
      "                  Fold 1  Fold 2  Fold 3  Mean    Std     \n",
      "RMSE (testset)    0.9508  0.9603  0.9487  0.9533  0.0051  \n",
      "MAE (testset)     0.7403  0.7475  0.7399  0.7425  0.0035  \n",
      "Fit time          2.52    2.46    2.46    2.48    0.03    \n",
      "Test time         0.17    0.29    0.16    0.21    0.06    \n"
     ]
    }
   ],
   "source": [
    "ccluster = CoClustering()\n",
    "perf_ccluster = cross_validate(ccluster, movie_data_sur, measures=['RMSE', 'MAE'], cv=3, verbose=True)"
   ]
  },
  {
   "cell_type": "code",
   "execution_count": 16,
   "metadata": {},
   "outputs": [
    {
     "name": "stdout",
     "output_type": "stream",
     "text": [
      "Estimating biases using als...\n",
      "Estimating biases using als...\n",
      "Estimating biases using als...\n",
      "Evaluating RMSE, MAE of algorithm BaselineOnly on 3 split(s).\n",
      "\n",
      "                  Fold 1  Fold 2  Fold 3  Mean    Std     \n",
      "RMSE (testset)    0.8797  0.8769  0.8723  0.8763  0.0030  \n",
      "MAE (testset)     0.6770  0.6762  0.6705  0.6746  0.0029  \n",
      "Fit time          0.23    0.24    0.23    0.23    0.00    \n",
      "Test time         0.15    0.28    0.15    0.19    0.06    \n"
     ]
    }
   ],
   "source": [
    "baseline = BaselineOnly()\n",
    "perf_baseline = cross_validate(baseline, movie_data_sur, measures=['RMSE', 'MAE'], cv=3, verbose=True)"
   ]
  },
  {
   "cell_type": "code",
   "execution_count": 17,
   "metadata": {},
   "outputs": [
    {
     "name": "stdout",
     "output_type": "stream",
     "text": [
      "Evaluating RMSE, MAE of algorithm NormalPredictor on 3 split(s).\n",
      "\n",
      "                  Fold 1  Fold 2  Fold 3  Mean    Std     \n",
      "RMSE (testset)    1.4133  1.4123  1.4083  1.4113  0.0021  \n",
      "MAE (testset)     1.1230  1.1260  1.1231  1.1240  0.0014  \n",
      "Fit time          0.10    0.11    0.11    0.10    0.01    \n",
      "Test time         0.35    0.38    0.22    0.32    0.07    \n"
     ]
    }
   ],
   "source": [
    "random = NormalPredictor()\n",
    "perf_random = cross_validate(random, movie_data_sur, measures=['RMSE', 'MAE'], cv=3, verbose=True)"
   ]
  },
  {
   "cell_type": "code",
   "execution_count": 18,
   "metadata": {},
   "outputs": [
    {
     "name": "stdout",
     "output_type": "stream",
     "text": [
      "{'test_rmse': array([0.88205183, 0.87686378, 0.88822508]), 'test_mae': array([0.67663982, 0.67482192, 0.68094366]), 'fit_time': (4.161578178405762, 4.121702432632446, 3.8688015937805176), 'test_time': (0.2379605770111084, 0.20350933074951172, 0.2650628089904785)}\n",
      "{'test_rmse': array([0.87129123, 0.87482021, 0.87339535]), 'test_mae': array([0.66474133, 0.67177045, 0.66890854]), 'fit_time': (296.2581639289856, 317.15815806388855, 317.12257146835327), 'test_time': (8.731106281280518, 9.786488056182861, 9.989471435546875)}\n",
      "{'test_rmse': array([0.94010931, 0.93864227, 0.94010386]), 'test_mae': array([0.7227882 , 0.72295063, 0.72000433]), 'fit_time': (5.578952074050903, 5.553024768829346, 5.5501625537872314), 'test_time': (0.21967554092407227, 0.21067571640014648, 0.29061388969421387)}\n",
      "{'test_rmse': array([0.90929029, 0.91346789, 0.89612937]), 'test_mae': array([0.6996393 , 0.69890275, 0.68766585]), 'fit_time': (3.272859811782837, 3.3075997829437256, 3.203626871109009), 'test_time': (6.674947023391724, 6.350462436676025, 6.448857307434082)}\n",
      "{'test_rmse': array([0.97425207, 0.97296278, 0.96309836]), 'test_mae': array([0.7496026 , 0.74735427, 0.74264593]), 'fit_time': (0.17440223693847656, 0.2612287998199463, 0.18906784057617188), 'test_time': (2.3063583374023438, 2.4899368286132812, 2.2469348907470703)}\n",
      "{'test_rmse': array([0.90903084, 0.89674788, 0.89695899]), 'test_mae': array([0.69719374, 0.68860924, 0.68852372]), 'fit_time': (0.19185638427734375, 0.21042656898498535, 0.2191615104675293), 'test_time': (2.5016956329345703, 2.565171718597412, 2.7191762924194336)}\n",
      "{'test_rmse': array([0.88504205, 0.87997377, 0.89051786]), 'test_mae': array([0.67749023, 0.67474654, 0.68233764]), 'fit_time': (0.3969299793243408, 0.41909313201904297, 0.3993966579437256), 'test_time': (2.9841790199279785, 3.143143653869629, 3.0898332595825195)}\n",
      "{'test_rmse': array([0.95076383, 0.96030278, 0.94871049]), 'test_mae': array([0.74025647, 0.74748277, 0.73987887]), 'fit_time': (2.5208868980407715, 2.4614439010620117, 2.455274820327759), 'test_time': (0.17108154296875, 0.2911207675933838, 0.1585235595703125)}\n",
      "{'test_rmse': array([0.87965542, 0.87686015, 0.87230732]), 'test_mae': array([0.67698912, 0.67622526, 0.67048672]), 'fit_time': (0.2315843105316162, 0.2357485294342041, 0.23409223556518555), 'test_time': (0.15211057662963867, 0.28413939476013184, 0.14821124076843262)}\n",
      "{'test_rmse': array([1.4132594 , 1.41228731, 1.40832008]), 'test_mae': array([1.12304991, 1.12597632, 1.12306592]), 'fit_time': (0.09546470642089844, 0.10905170440673828, 0.1070706844329834), 'test_time': (0.352741003036499, 0.38096046447753906, 0.21679067611694336)}\n"
     ]
    }
   ],
   "source": [
    "print(perf_svd)\n",
    "print(perf_svdpp)\n",
    "print(perf_nmf)\n",
    "print(perf_s_one)\n",
    "print(perf_knn_basic)\n",
    "print(perf_knnm)\n",
    "print(perf_knn_base)\n",
    "print(perf_ccluster)\n",
    "print(perf_baseline)\n",
    "print(perf_random)"
   ]
  },
  {
   "cell_type": "code",
   "execution_count": 25,
   "metadata": {},
   "outputs": [
    {
     "name": "stdout",
     "output_type": "stream",
     "text": [
      "Pretty printing has been turned ON\n"
     ]
    }
   ],
   "source": []
  },
  {
   "cell_type": "code",
   "execution_count": null,
   "metadata": {},
   "outputs": [],
   "source": []
  }
 ],
 "metadata": {
  "interpreter": {
   "hash": "a547e1d5712790b858268d83c79007516b967c0c3e8ce6e2b2cca3a00ef3f5bb"
  },
  "kernelspec": {
   "display_name": "Python 3.10.2 ('.venv': venv)",
   "language": "python",
   "name": "python3"
  },
  "language_info": {
   "codemirror_mode": {
    "name": "ipython",
    "version": 3
   },
   "file_extension": ".py",
   "mimetype": "text/x-python",
   "name": "python",
   "nbconvert_exporter": "python",
   "pygments_lexer": "ipython3",
   "version": "3.7.9"
  },
  "orig_nbformat": 4
 },
 "nbformat": 4,
 "nbformat_minor": 2
}
